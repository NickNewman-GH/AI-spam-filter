{
 "cells": [
  {
   "cell_type": "markdown",
   "metadata": {},
   "source": [
    "1. Импорт библиотек"
   ]
  },
  {
   "cell_type": "code",
   "execution_count": 30,
   "metadata": {},
   "outputs": [],
   "source": [
    "import pickle, re, nltk\n",
    "import pandas as pd\n",
    "from nltk.corpus import stopwords\n",
    "from sklearn.metrics import classification_report"
   ]
  },
  {
   "cell_type": "markdown",
   "metadata": {},
   "source": [
    "2. Загрузка коллекции слов при отсутствии"
   ]
  },
  {
   "cell_type": "code",
   "execution_count": 31,
   "metadata": {},
   "outputs": [
    {
     "name": "stderr",
     "output_type": "stream",
     "text": [
      "[nltk_data] Downloading package stopwords to\n",
      "[nltk_data]     C:\\Users\\NA\\AppData\\Roaming\\nltk_data...\n",
      "[nltk_data]   Package stopwords is already up-to-date!\n"
     ]
    },
    {
     "data": {
      "text/plain": [
       "True"
      ]
     },
     "execution_count": 31,
     "metadata": {},
     "output_type": "execute_result"
    }
   ],
   "source": [
    "nltk.download('stopwords')"
   ]
  },
  {
   "cell_type": "markdown",
   "metadata": {},
   "source": [
    "3. Объявление функции, токенизатора (превращает строку текста в список токенов)"
   ]
  },
  {
   "cell_type": "code",
   "execution_count": 32,
   "metadata": {},
   "outputs": [],
   "source": [
    "def tokenizer(line):\n",
    "    line = re.sub('[^ A-Za-z]', '', line)\n",
    "    line = line.lower().split()\n",
    "    for word in line:\n",
    "        if word in stopwords.words('english'):\n",
    "            line.remove(word)\n",
    "    return line"
   ]
  },
  {
   "cell_type": "markdown",
   "metadata": {},
   "source": [
    "4. Открытие сохраненной модели"
   ]
  },
  {
   "cell_type": "code",
   "execution_count": 33,
   "metadata": {},
   "outputs": [],
   "source": [
    "with open('models/spam_classifier.obj', 'rb') as file:\n",
    "    classifier = pickle.load(file)\n",
    "with open('models/data_vectorizer.obj', 'rb') as file:\n",
    "    vectorizer = pickle.load(file)"
   ]
  },
  {
   "cell_type": "markdown",
   "metadata": {},
   "source": [
    "5. Ввод текста и передача на вход модели, пока не будет введён 0"
   ]
  },
  {
   "cell_type": "code",
   "execution_count": 37,
   "metadata": {},
   "outputs": [
    {
     "name": "stdout",
     "output_type": "stream",
     "text": [
      "['spam']\n",
      "['spam']\n",
      "['ham']\n",
      "['ham']\n",
      "['ham']\n",
      "['ham']\n",
      "['ham']\n"
     ]
    }
   ],
   "source": [
    "while True:\n",
    "    input_message = input()\n",
    "    if input_message == \"0\":\n",
    "        break\n",
    "    else:\n",
    "        print(classifier.predict(vectorizer.transform([input_message])))"
   ]
  },
  {
   "cell_type": "markdown",
   "metadata": {},
   "source": [
    "6. Дополнительная проверка модели"
   ]
  },
  {
   "cell_type": "code",
   "execution_count": 35,
   "metadata": {},
   "outputs": [
    {
     "name": "stdout",
     "output_type": "stream",
     "text": [
      "              precision    recall  f1-score   support\n",
      "\n",
      "         ham       0.99      1.00      0.99      4284\n",
      "        spam       0.99      0.93      0.96       716\n",
      "\n",
      "    accuracy                           0.99      5000\n",
      "   macro avg       0.99      0.96      0.98      5000\n",
      "weighted avg       0.99      0.99      0.99      5000\n",
      "\n"
     ]
    }
   ],
   "source": [
    "sms = pd.read_csv('data/SMSSpamCollection.txt.train', sep='\\t', names=[\"label\", \"text\"])\n",
    "print(classification_report(classifier.predict(vectorizer.transform(sms[\"text\"])), sms[\"label\"]))"
   ]
  }
 ],
 "metadata": {
  "interpreter": {
   "hash": "1e91f9c4db43559d7742e62b3bb602d950ed15ba1fe501513c6d6fd8f23d4325"
  },
  "kernelspec": {
   "display_name": "Python 3.9.7 64-bit",
   "language": "python",
   "name": "python3"
  },
  "language_info": {
   "codemirror_mode": {
    "name": "ipython",
    "version": 3
   },
   "file_extension": ".py",
   "mimetype": "text/x-python",
   "name": "python",
   "nbconvert_exporter": "python",
   "pygments_lexer": "ipython3",
   "version": "3.9.7"
  },
  "orig_nbformat": 4
 },
 "nbformat": 4,
 "nbformat_minor": 2
}
